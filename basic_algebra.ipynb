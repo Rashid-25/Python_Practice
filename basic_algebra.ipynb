{
  "nbformat": 4,
  "nbformat_minor": 0,
  "metadata": {
    "colab": {
      "provenance": [],
      "authorship_tag": "ABX9TyMGpQ4rO6l9d5bq3vPF5pxq",
      "include_colab_link": true
    },
    "kernelspec": {
      "name": "python3",
      "display_name": "Python 3"
    },
    "language_info": {
      "name": "python"
    }
  },
  "cells": [
    {
      "cell_type": "markdown",
      "metadata": {
        "id": "view-in-github",
        "colab_type": "text"
      },
      "source": [
        "<a href=\"https://colab.research.google.com/github/Rashid-25/Python_Practice_beginner/blob/main/basic_algebra.ipynb\" target=\"_parent\"><img src=\"https://colab.research.google.com/assets/colab-badge.svg\" alt=\"Open In Colab\"/></a>"
      ]
    },
    {
      "cell_type": "markdown",
      "source": [
        "# Algebra Practice"
      ],
      "metadata": {
        "id": "-R2Seyh6xjNz"
      }
    },
    {
      "cell_type": "code",
      "source": [
        "import sympy as sp\n",
        "\n",
        "# Define symbols (variables)\n",
        "x, y, z = sp.symbols('x y z')\n",
        "\n",
        "# Define algebraic expressions\n",
        "expr1 = x + y - 3\n",
        "expr2 = x**2 + 2*x + 1\n",
        "expr3 = x*y + y*z + z*x\n",
        "\n",
        "# Display expressions\n",
        "expr1, expr2, expr3"
      ],
      "metadata": {
        "colab": {
          "base_uri": "https://localhost:8080/"
        },
        "id": "gc8A2RVqwxiF",
        "outputId": "19e114f8-0c30-4109-d6eb-d29da7e20db7"
      },
      "execution_count": 6,
      "outputs": [
        {
          "output_type": "execute_result",
          "data": {
            "text/plain": [
              "(x + y - 3, x**2 + 2*x + 1, x*y + x*z + y*z)"
            ]
          },
          "metadata": {},
          "execution_count": 6
        }
      ]
    },
    {
      "cell_type": "markdown",
      "source": [
        "# Expand and factorize expression"
      ],
      "metadata": {
        "id": "xeWexpxjyyXd"
      }
    },
    {
      "cell_type": "code",
      "source": [
        "# Expanding an expression\n",
        "expanded_expr = sp.expand((x + 1) * (x - 2))\n",
        "print(\"Expanded:\", expanded_expr)\n",
        "\n",
        "# Factoring an expression\n",
        "factored_expr = sp.factor(x**2 - 4)\n",
        "print(\"Factored:\", factored_expr)"
      ],
      "metadata": {
        "colab": {
          "base_uri": "https://localhost:8080/"
        },
        "id": "ssVAOYwMy5-0",
        "outputId": "20d1aecd-2e0f-4541-b373-5a1695fb350a"
      },
      "execution_count": 7,
      "outputs": [
        {
          "output_type": "stream",
          "name": "stdout",
          "text": [
            "Expanded: x**2 - x - 2\n",
            "Factored: (x - 2)*(x + 2)\n"
          ]
        }
      ]
    },
    {
      "cell_type": "markdown",
      "source": [
        "# solve equations"
      ],
      "metadata": {
        "id": "euqgcoG0zoPN"
      }
    },
    {
      "cell_type": "code",
      "source": [
        "# Solve for x in a simple equation\n",
        "eq1 = sp.Eq(2*x + 3, 7)\n",
        "solution = sp.solve(eq1, x)\n",
        "print(\"Solution:\", solution)"
      ],
      "metadata": {
        "colab": {
          "base_uri": "https://localhost:8080/"
        },
        "id": "ceLqkeFlzrz_",
        "outputId": "96730563-bd81-47b7-980a-47eb8ffa2850"
      },
      "execution_count": 8,
      "outputs": [
        {
          "output_type": "stream",
          "name": "stdout",
          "text": [
            "Solution: [2]\n"
          ]
        }
      ]
    },
    {
      "cell_type": "markdown",
      "source": [
        "# differentiate and integrate"
      ],
      "metadata": {
        "id": "sN_i3wj30Cs7"
      }
    },
    {
      "cell_type": "code",
      "source": [
        "# Differentiate x^3 + 2x^2 - x + 5\n",
        "derivative = sp.diff(x**3 + 2*x**2 - x + 5, x)\n",
        "print(\"Derivative:\", derivative)\n",
        "\n",
        "# Integrate x^2 + 2x\n",
        "integral = sp.integrate(x**2 + 2*x, x)\n",
        "print(\"Integral:\", integral)"
      ],
      "metadata": {
        "colab": {
          "base_uri": "https://localhost:8080/"
        },
        "id": "j5RPxs0d0ReS",
        "outputId": "f0615b7b-7a36-4d42-e6ff-5217e5925c63"
      },
      "execution_count": 9,
      "outputs": [
        {
          "output_type": "stream",
          "name": "stdout",
          "text": [
            "Derivative: 3*x**2 + 4*x - 1\n",
            "Integral: x**3/3 + x**2\n"
          ]
        }
      ]
    }
  ]
}