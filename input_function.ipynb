{
  "nbformat": 4,
  "nbformat_minor": 0,
  "metadata": {
    "colab": {
      "provenance": [],
      "authorship_tag": "ABX9TyMKWt1bDI9PKenvDkiNWP5X",
      "include_colab_link": true
    },
    "kernelspec": {
      "name": "python3",
      "display_name": "Python 3"
    },
    "language_info": {
      "name": "python"
    }
  },
  "cells": [
    {
      "cell_type": "markdown",
      "metadata": {
        "id": "view-in-github",
        "colab_type": "text"
      },
      "source": [
        "<a href=\"https://colab.research.google.com/github/Rashid-25/Python_Practice_beginner/blob/main/input_function.ipynb\" target=\"_parent\"><img src=\"https://colab.research.google.com/assets/colab-badge.svg\" alt=\"Open In Colab\"/></a>"
      ]
    },
    {
      "cell_type": "markdown",
      "source": [
        " **Getting Input from the User,\n",
        " Counting Characters,\n",
        " Counting Words,\n",
        " Counting Lines**"
      ],
      "metadata": {
        "id": "zBc0LKtdTLnz"
      }
    },
    {
      "cell_type": "code",
      "execution_count": 3,
      "metadata": {
        "colab": {
          "base_uri": "https://localhost:8080/"
        },
        "id": "Hh4_SsKBOIcO",
        "outputId": "869e8e5f-2360-49d1-a512-933285c56332"
      },
      "outputs": [
        {
          "output_type": "stream",
          "name": "stdout",
          "text": [
            "Enter your text: my name is rashid\n",
            "Number of characters: 17\n",
            "Number of words: 4\n",
            "Number of lines: 1\n"
          ]
        }
      ],
      "source": [
        "user_input = input('Enter your text: ')\n",
        "count_char = len(user_input)\n",
        "count_word = len(user_input.split())\n",
        "count_line = len(user_input.split('\\n'))\n",
        "print(f'Number of characters: {count_char}')\n",
        "print(f'Number of words: {count_word}')\n",
        "print(f'Number of lines: {count_line}')\n"
      ]
    },
    {
      "cell_type": "code",
      "source": [
        "user_input = \"\"  # Initialize an empty string to store the input\n",
        "\n",
        "print(\"Enter your text (press Enter twice to finish):\")\n",
        "\n",
        "while True:\n",
        "    line = input()\n",
        "    if line == \"\":  # Empty line (pressing Enter twice) is the sentinel\n",
        "        break\n",
        "    user_input += line + \"\\n\"  # Add the line and a newline character\n",
        "\n",
        "# Now you have the entire multiline input in 'user_input'\n",
        "\n",
        "count_char = len(user_input)\n",
        "count_word = len(user_input.split())\n",
        "count_line = len(user_input.split('\\n')) -1  # Subtract 1 to avoid counting the extra newline\n",
        "\n",
        "print(f'Number of characters: {count_char}')\n",
        "print(f'Number of words: {count_word}')\n",
        "print(f'Number of lines: {count_line}')\n",
        "\n"
      ],
      "metadata": {
        "colab": {
          "base_uri": "https://localhost:8080/"
        },
        "id": "yfs8rxhdR7cb",
        "outputId": "c0ee6a49-a116-46e8-89cc-c2a45d33139f"
      },
      "execution_count": 5,
      "outputs": [
        {
          "output_type": "stream",
          "name": "stdout",
          "text": [
            "Enter your text (press Enter twice to finish):\n",
            "my name is muhammad rashid\n",
            "i live in paktan\n",
            "\n",
            "Number of characters: 44\n",
            "Number of words: 9\n",
            "Number of lines: 2\n"
          ]
        }
      ]
    }
  ]
}