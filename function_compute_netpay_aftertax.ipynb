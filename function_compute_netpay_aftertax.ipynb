{
  "nbformat": 4,
  "nbformat_minor": 0,
  "metadata": {
    "colab": {
      "provenance": [],
      "authorship_tag": "ABX9TyMYi6rmt5lLCk3YHS54vqbf",
      "include_colab_link": true
    },
    "kernelspec": {
      "name": "python3",
      "display_name": "Python 3"
    },
    "language_info": {
      "name": "python"
    }
  },
  "cells": [
    {
      "cell_type": "markdown",
      "metadata": {
        "id": "view-in-github",
        "colab_type": "text"
      },
      "source": [
        "<a href=\"https://colab.research.google.com/github/Rashid-25/Python_Practice_beginner/blob/main/function_compute_netpay_aftertax.ipynb\" target=\"_parent\"><img src=\"https://colab.research.google.com/assets/colab-badge.svg\" alt=\"Open In Colab\"/></a>"
      ]
    },
    {
      "cell_type": "code",
      "execution_count": 5,
      "metadata": {
        "colab": {
          "base_uri": "https://localhost:8080/"
        },
        "id": "SrFrzmvUhL-j",
        "outputId": "53d7ff60-0cc5-49bc-9ca2-c1bf6e72935b"
      },
      "outputs": [
        {
          "output_type": "execute_result",
          "data": {
            "text/plain": [
              "528.0"
            ]
          },
          "metadata": {},
          "execution_count": 5
        }
      ],
      "source": [
        "def pay_aftertax(hours_worked):\n",
        "  # compute the pay before tax , receiving $15 per hour\n",
        "  pay_pretax = hours_worked * 15\n",
        "  # compute tax 12 %\n",
        "  tax = pay_pretax * 0.12\n",
        "  # compute the pay after tax\n",
        "  pay_aftertax = pay_pretax - tax\n",
        "  return pay_aftertax\n",
        "\n",
        "pay_aftertax(40)\n"
      ]
    }
  ]
}