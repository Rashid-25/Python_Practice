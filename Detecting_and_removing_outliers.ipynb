{
  "nbformat": 4,
  "nbformat_minor": 0,
  "metadata": {
    "colab": {
      "provenance": [],
      "authorship_tag": "ABX9TyOYN6O88ZlgQOK+w+D+ZpYh",
      "include_colab_link": true
    },
    "kernelspec": {
      "name": "python3",
      "display_name": "Python 3"
    },
    "language_info": {
      "name": "python"
    }
  },
  "cells": [
    {
      "cell_type": "markdown",
      "metadata": {
        "id": "view-in-github",
        "colab_type": "text"
      },
      "source": [
        "<a href=\"https://colab.research.google.com/github/Rashid-25/Python_Practice/blob/main/Detecting_and_removing_outliers.ipynb\" target=\"_parent\"><img src=\"https://colab.research.google.com/assets/colab-badge.svg\" alt=\"Open In Colab\"/></a>"
      ]
    },
    {
      "cell_type": "code",
      "execution_count": null,
      "metadata": {
        "colab": {
          "base_uri": "https://localhost:8080/"
        },
        "id": "rYSl1HXjP1RB",
        "outputId": "350ffce3-b6b7-4008-92f3-0e8039d5a2a5"
      },
      "outputs": [
        {
          "output_type": "stream",
          "name": "stdout",
          "text": [
            "13.0 17.0\n",
            "4.0\n",
            "7.0\n",
            "23.0\n",
            "   Value\n",
            "0     10\n",
            "1     12\n",
            "2     14\n",
            "3     15\n",
            "5     16\n",
            "6     18\n"
          ]
        }
      ],
      "source": [
        "import pandas as pd\n",
        "import numpy as np\n",
        "\n",
        "# Sample dataset\n",
        "data = {'Value': [10, 12, 14, 15, 200, 16, 18]}\n",
        "df = pd.DataFrame(data)\n",
        "\n",
        "# Calculate IQR\n",
        "Q1 = df['Value'].quantile(0.25)\n",
        "Q3 = df['Value'].quantile(0.75)\n",
        "IQR = Q3 - Q1\n",
        "print(Q1,Q3)\n",
        "print(IQR)\n",
        "\n",
        "# Define bounds\n",
        "lower_bound = Q1 - 1.5 * IQR\n",
        "upper_bound = Q3 + 1.5 * IQR\n",
        "print(lower_bound)\n",
        "print(upper_bound)\n",
        "\n",
        "# Filter out outliers\n",
        "filtered_df = df[(df['Value'] >= lower_bound) & (df['Value'] <= upper_bound)]\n",
        "print(filtered_df)"
      ]
    }
  ]
}