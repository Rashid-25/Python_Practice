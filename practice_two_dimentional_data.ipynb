{
  "nbformat": 4,
  "nbformat_minor": 0,
  "metadata": {
    "colab": {
      "provenance": [],
      "authorship_tag": "ABX9TyNQ19+39Srj0hc/jHZMbxve",
      "include_colab_link": true
    },
    "kernelspec": {
      "name": "python3",
      "display_name": "Python 3"
    },
    "language_info": {
      "name": "python"
    }
  },
  "cells": [
    {
      "cell_type": "markdown",
      "metadata": {
        "id": "view-in-github",
        "colab_type": "text"
      },
      "source": [
        "<a href=\"https://colab.research.google.com/github/Rashid-25/Python_Practice_beginner/blob/main/practice_two_dimentional_data.ipynb\" target=\"_parent\"><img src=\"https://colab.research.google.com/assets/colab-badge.svg\" alt=\"Open In Colab\"/></a>"
      ]
    },
    {
      "cell_type": "markdown",
      "source": [
        "# **1. Descriptive Statistics**"
      ],
      "metadata": {
        "id": "buo0EaaUMwhJ"
      }
    },
    {
      "cell_type": "code",
      "source": [
        "import pandas as pd\n",
        "\n",
        "data = {\n",
        "    \"Date\": [\"2025-01-01\", \"2025-01-02\", \"2025-01-03\"],\n",
        "    \"Product\": [\"Laptop\", \"Smartphone\", \"Headphones\"],\n",
        "    \"Quantity\": [2, 5, 10],\n",
        "    \"Total Price\": [2000, 3000, 500]\n",
        "}\n",
        "\n",
        "df = pd.DataFrame(data) # Creating data frame\n",
        "print(df)\n"
      ],
      "metadata": {
        "colab": {
          "base_uri": "https://localhost:8080/"
        },
        "id": "hheXJCLeKffw",
        "outputId": "5bd7f8a9-a007-4d61-a93a-f51e3fde52fc"
      },
      "execution_count": 1,
      "outputs": [
        {
          "output_type": "stream",
          "name": "stdout",
          "text": [
            "         Date     Product  Quantity  Total Price\n",
            "0  2025-01-01      Laptop         2         2000\n",
            "1  2025-01-02  Smartphone         5         3000\n",
            "2  2025-01-03  Headphones        10          500\n"
          ]
        }
      ]
    },
    {
      "cell_type": "code",
      "source": [
        "total_sales = df[\"Total Price\"].sum() # computing total sales\n",
        "print(\"Total Sales:\", total_sales)\n"
      ],
      "metadata": {
        "colab": {
          "base_uri": "https://localhost:8080/"
        },
        "id": "vxbChHt8Kptt",
        "outputId": "97d221c1-946f-41b3-8a1e-b1e3621bdae6"
      },
      "execution_count": 2,
      "outputs": [
        {
          "output_type": "stream",
          "name": "stdout",
          "text": [
            "Total Sales: 5500\n"
          ]
        }
      ]
    },
    {
      "cell_type": "code",
      "source": [
        "avg_quantity = df[\"Quantity\"].mean() # computing average quantity sold\n",
        "print(\"Average Quantity Sold:\", avg_quantity)\n"
      ],
      "metadata": {
        "colab": {
          "base_uri": "https://localhost:8080/"
        },
        "id": "cOwREqiFMCyU",
        "outputId": "6b14c7c6-2324-49a1-927d-b884a39e8124"
      },
      "execution_count": 3,
      "outputs": [
        {
          "output_type": "stream",
          "name": "stdout",
          "text": [
            "Average Quantity Sold: 5.666666666666667\n"
          ]
        }
      ]
    },
    {
      "cell_type": "code",
      "source": [
        "max_sale = df[\"Total Price\"].max() # computing maximum sales\n",
        "min_sale = df[\"Total Price\"].min() # computig minimum sales\n",
        "print(\"Maximum Sale:\", max_sale)\n",
        "print(\"Minimum Sale:\", min_sale)\n"
      ],
      "metadata": {
        "colab": {
          "base_uri": "https://localhost:8080/"
        },
        "id": "FYwARWdEMXef",
        "outputId": "84d3699a-6b73-4475-f533-ac7777dcb926"
      },
      "execution_count": 4,
      "outputs": [
        {
          "output_type": "stream",
          "name": "stdout",
          "text": [
            "Maximum Sale: 3000\n",
            "Minimum Sale: 500\n"
          ]
        }
      ]
    },
    {
      "cell_type": "markdown",
      "source": [
        "# **2. Product-Wise Analysis**"
      ],
      "metadata": {
        "id": "lCUnwETcNDjf"
      }
    },
    {
      "cell_type": "code",
      "source": [
        "product_sales = df.groupby(\"Product\")[\"Total Price\"].sum()\n",
        "print(product_sales)\n"
      ],
      "metadata": {
        "colab": {
          "base_uri": "https://localhost:8080/"
        },
        "id": "NUAz4lPxOOKG",
        "outputId": "d04592df-0458-43e1-d914-d0ae5ece7a9c"
      },
      "execution_count": 5,
      "outputs": [
        {
          "output_type": "stream",
          "name": "stdout",
          "text": [
            "Product\n",
            "Headphones     500\n",
            "Laptop        2000\n",
            "Smartphone    3000\n",
            "Name: Total Price, dtype: int64\n"
          ]
        }
      ]
    },
    {
      "cell_type": "code",
      "source": [
        "product_quantity = df.groupby(\"Product\")[\"Quantity\"].sum()\n",
        "print(product_quantity)\n"
      ],
      "metadata": {
        "colab": {
          "base_uri": "https://localhost:8080/"
        },
        "id": "j0idyTbJOc8K",
        "outputId": "4fac8fb8-199d-4aaa-8fd6-f26b9551859d"
      },
      "execution_count": 6,
      "outputs": [
        {
          "output_type": "stream",
          "name": "stdout",
          "text": [
            "Product\n",
            "Headphones    10\n",
            "Laptop         2\n",
            "Smartphone     5\n",
            "Name: Quantity, dtype: int64\n"
          ]
        }
      ]
    },
    {
      "cell_type": "markdown",
      "source": [
        "# **3. Trend Analysis**"
      ],
      "metadata": {
        "id": "JC6-fz9wOkUr"
      }
    },
    {
      "cell_type": "code",
      "source": [
        "daily_sales = df.groupby(\"Date\")[\"Total Price\"].sum() # Daily sales\n",
        "print(daily_sales)\n"
      ],
      "metadata": {
        "colab": {
          "base_uri": "https://localhost:8080/"
        },
        "id": "QES-WfbTOpQa",
        "outputId": "8cad1203-57cf-446d-ffca-46e115c9d8fa"
      },
      "execution_count": 7,
      "outputs": [
        {
          "output_type": "stream",
          "name": "stdout",
          "text": [
            "Date\n",
            "2025-01-01    2000\n",
            "2025-01-02    3000\n",
            "2025-01-03     500\n",
            "Name: Total Price, dtype: int64\n"
          ]
        }
      ]
    },
    {
      "cell_type": "markdown",
      "source": [
        "# **4. Data Visualization**"
      ],
      "metadata": {
        "id": "sRpSx3cDPBG0"
      }
    },
    {
      "cell_type": "code",
      "source": [
        "import seaborn as sns\n",
        "import matplotlib.pyplot as plt\n",
        "\n",
        "sns.barplot(x=\"Product\", y=\"Total Price\", data=df) # Bar Plot for Product-Wise Sales:\n",
        "plt.title(\"Sales by Product\")\n",
        "plt.show()\n"
      ],
      "metadata": {
        "colab": {
          "base_uri": "https://localhost:8080/",
          "height": 472
        },
        "id": "ysqZiHPIPFRM",
        "outputId": "dbc05fce-5971-47fa-ad91-84f70c378c6d"
      },
      "execution_count": 8,
      "outputs": [
        {
          "output_type": "display_data",
          "data": {
            "text/plain": [
              "<Figure size 640x480 with 1 Axes>"
            ],
            "image/png": "[encoded data removed]"
          },
          "metadata": {}
        }
      ]
    },
    {
      "cell_type": "code",
      "source": [],
      "metadata": {
        "id": "T2lX9WhFPQra"
      },
      "execution_count": null,
      "outputs": []
    },
    {
      "cell_type": "code",
      "source": [
        "df[\"Date\"] = pd.to_datetime(df[\"Date\"]) # Line Plot for Daily Sales\n",
        "df.plot(x=\"Date\", y=\"Total Price\", kind=\"line\", title=\"Daily Sales Trend\")\n",
        "plt.show()\n"
      ],
      "metadata": {
        "colab": {
          "base_uri": "https://localhost:8080/",
          "height": 504
        },
        "id": "MhrMiMe1PajU",
        "outputId": "91dc4916-30da-4ea1-b793-e8ad06a0b1b6"
      },
      "execution_count": 9,
      "outputs": [
        {
          "output_type": "display_data",
          "data": {
            "text/plain": [
              "<Figure size 640x480 with 1 Axes>"
            ],
            "image/png": "[encoded data removed]"
          },
          "metadata": {}
        }
      ]
    },
    {
      "cell_type": "markdown",
      "source": [
        "# **5. Sales Efficiency**"
      ],
      "metadata": {
        "id": "TkOT5IUIQI2x"
      }
    },
    {
      "cell_type": "code",
      "source": [
        "df[\"Price per Unit\"] = df[\"Total Price\"] / df[\"Quantity\"] # Average Sale Price per Unit\n",
        "print(df[[\"Product\", \"Price per Unit\"]])\n"
      ],
      "metadata": {
        "colab": {
          "base_uri": "https://localhost:8080/"
        },
        "id": "gYpm_DLoQNzr",
        "outputId": "387263cd-6073-4a18-b402-136d6c394c53"
      },
      "execution_count": 10,
      "outputs": [
        {
          "output_type": "stream",
          "name": "stdout",
          "text": [
            "      Product  Price per Unit\n",
            "0      Laptop          1000.0\n",
            "1  Smartphone           600.0\n",
            "2  Headphones            50.0\n"
          ]
        }
      ]
    }
  ]
}