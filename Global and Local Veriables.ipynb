{
  "nbformat": 4,
  "nbformat_minor": 0,
  "metadata": {
    "colab": {
      "provenance": [],
      "authorship_tag": "ABX9TyMn9+ZXSSdyHLCNZFLho0S1",
      "include_colab_link": true
    },
    "kernelspec": {
      "name": "python3",
      "display_name": "Python 3"
    },
    "language_info": {
      "name": "python"
    }
  },
  "cells": [
    {
      "cell_type": "markdown",
      "metadata": {
        "id": "view-in-github",
        "colab_type": "text"
      },
      "source": [
        "<a href=\"https://colab.research.google.com/github/Rashid-25/Python_Practice/blob/main/Global%20and%20Local%20Veriables.ipynb\" target=\"_parent\"><img src=\"https://colab.research.google.com/assets/colab-badge.svg\" alt=\"Open In Colab\"/></a>"
      ]
    },
    {
      "cell_type": "markdown",
      "source": [
        "# 1. Local Variables\n",
        "Scope: Limited to the function or block in which it is defined.\n",
        "Lifetime: Exists only during the execution of the block or function.\n",
        "Access: Cannot be accessed outside the function or block.\n",
        "\n",
        "\n",
        "\n"
      ],
      "metadata": {
        "id": "_B-Z3oDTnybj"
      }
    },
    {
      "cell_type": "code",
      "source": [
        "def my_function():\n",
        "    x = 10  # Local variable\n",
        "    print(\"Inside the function, x =\", x)\n",
        "\n",
        "my_function()\n",
        "#print(x)  # This will raise an error because x is not defined outside the function.\n"
      ],
      "metadata": {
        "colab": {
          "base_uri": "https://localhost:8080/"
        },
        "id": "SUzMkXXPoMyK",
        "outputId": "74e64e19-37a7-4645-dee0-9eb529a61377"
      },
      "execution_count": 4,
      "outputs": [
        {
          "output_type": "stream",
          "name": "stdout",
          "text": [
            "Inside the function, x = 10\n"
          ]
        }
      ]
    },
    {
      "cell_type": "markdown",
      "source": [
        "# 2. Global Variables\n",
        "Scope: Accessible from any part of the program.\n",
        "Lifetime: Exists for the duration of the program's execution.\n",
        "Access: Can be accessed and modified inside functions if explicitly declared.\n",
        "\n",
        "\n"
      ],
      "metadata": {
        "id": "tsdKHKc9p_YR"
      }
    },
    {
      "cell_type": "code",
      "source": [
        "x = 20  # Global variable\n",
        "\n",
        "def my_function():\n",
        "    print(\"Inside the function, x =\", x)\n",
        "\n",
        "my_function()\n",
        "print(\"Outside the function, x =\", x)\n"
      ],
      "metadata": {
        "colab": {
          "base_uri": "https://localhost:8080/"
        },
        "id": "rJ6wSTVLqRsd",
        "outputId": "d9aa659a-dd33-4744-e4d8-d5ba395fd11f"
      },
      "execution_count": 5,
      "outputs": [
        {
          "output_type": "stream",
          "name": "stdout",
          "text": [
            "Inside the function, x = 20\n",
            "Outside the function, x = 20\n"
          ]
        }
      ]
    },
    {
      "cell_type": "markdown",
      "source": [
        "# 3. Modifying Global Variables Inside Functions\n",
        "By default, Python treats variables inside functions as local. To modify a global variable inside a function, you must explicitly declare it using the global keyword."
      ],
      "metadata": {
        "id": "DDByHwZ8qqUH"
      }
    },
    {
      "cell_type": "code",
      "source": [
        "x = 5  # Global variable\n",
        "\n",
        "def modify_global():\n",
        "    global x  # Declare x as global\n",
        "    x = 10\n",
        "    print(\"Inside the function, x =\", x)\n",
        "\n",
        "modify_global()\n",
        "print(\"Outside the function, x =\", x)\n"
      ],
      "metadata": {
        "colab": {
          "base_uri": "https://localhost:8080/"
        },
        "id": "IDhwUpOgqr8Q",
        "outputId": "65f6ee80-6f54-4c40-f9bf-7b8c3dd83582"
      },
      "execution_count": 6,
      "outputs": [
        {
          "output_type": "stream",
          "name": "stdout",
          "text": [
            "Inside the function, x = 10\n",
            "Outside the function, x = 10\n"
          ]
        }
      ]
    },
    {
      "cell_type": "markdown",
      "source": [
        "# Using both  the Local and Global  variable"
      ],
      "metadata": {
        "id": "QUP-w7BxrZM_"
      }
    },
    {
      "cell_type": "code",
      "source": [
        "\n",
        "def modify_local():\n",
        "    x = 5 # Local variable\n",
        "    print(\"Inside the function, x =\", x)\n",
        "\n",
        "modify_local()\n",
        "print(\"Outside the function, x =\", x)\n"
      ],
      "metadata": {
        "colab": {
          "base_uri": "https://localhost:8080/"
        },
        "id": "HLhq_mvAr30U",
        "outputId": "3478b3c9-7097-4f85-dffc-67bb2da80621"
      },
      "execution_count": 11,
      "outputs": [
        {
          "output_type": "stream",
          "name": "stdout",
          "text": [
            "Inside the function, x = 5\n",
            "Outside the function, x = 10\n"
          ]
        }
      ]
    }
  ]
}