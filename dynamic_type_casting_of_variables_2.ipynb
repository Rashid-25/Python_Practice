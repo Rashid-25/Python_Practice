{
  "nbformat": 4,
  "nbformat_minor": 0,
  "metadata": {
    "colab": {
      "provenance": [],
      "authorship_tag": "ABX9TyP68wOET7IMSZARUf86UDQ4",
      "include_colab_link": true
    },
    "kernelspec": {
      "name": "python3",
      "display_name": "Python 3"
    },
    "language_info": {
      "name": "python"
    }
  },
  "cells": [
    {
      "cell_type": "markdown",
      "metadata": {
        "id": "view-in-github",
        "colab_type": "text"
      },
      "source": [
        "<a href=\"https://colab.research.google.com/github/Rashid-25/Python_Practice_beginner/blob/main/dynamic_type_casting_of_variables_2.ipynb\" target=\"_parent\"><img src=\"https://colab.research.google.com/assets/colab-badge.svg\" alt=\"Open In Colab\"/></a>"
      ]
    },
    {
      "cell_type": "markdown",
      "source": [
        "#**Dynamic type casting by reassigning value to a variable during run-time**"
      ],
      "metadata": {
        "id": "na8b9lHdXDe0"
      }
    },
    {
      "cell_type": "code",
      "execution_count": 1,
      "metadata": {
        "colab": {
          "base_uri": "https://localhost:8080/"
        },
        "id": "zPMYy8DnWPD7",
        "outputId": "3c419bc7-4cde-424f-f07d-7094a47157e3"
      },
      "outputs": [
        {
          "output_type": "stream",
          "name": "stdout",
          "text": [
            "<class 'int'>\n",
            "<class 'str'>\n",
            "<class 'float'>\n"
          ]
        }
      ],
      "source": [
        "# dynamcially changing variable types\n",
        "x = 100 # initially an integer\n",
        "print(type(x))\n",
        "\n",
        "x = 'Python' # now x is a string\n",
        "print(type(x))\n",
        "\n",
        "x = 10.50 # now x is a float\n",
        "print(type(x))"
      ]
    },
    {
      "cell_type": "markdown",
      "source": [
        "# **Dynamic type casting during operation**"
      ],
      "metadata": {
        "id": "rYniEhSOYhYR"
      }
    },
    {
      "cell_type": "code",
      "source": [
        "# dynamic casting during mathematical operations\n",
        "x = 10 # integer\n",
        "y = 20.10 # float\n",
        "z = x * y # Python dynamically casts the result to float\n",
        "print(z)\n",
        "print(type(z)) # float"
      ],
      "metadata": {
        "colab": {
          "base_uri": "https://localhost:8080/"
        },
        "id": "b03VOlBKYxWn",
        "outputId": "fe4b5359-9eb5-4229-f6ec-c29a136589a9"
      },
      "execution_count": 2,
      "outputs": [
        {
          "output_type": "stream",
          "name": "stdout",
          "text": [
            "201.0\n",
            "<class 'float'>\n"
          ]
        }
      ]
    }
  ]
}