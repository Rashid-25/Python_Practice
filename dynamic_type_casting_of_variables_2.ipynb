{
  "nbformat": 4,
  "nbformat_minor": 0,
  "metadata": {
    "colab": {
      "provenance": [],
      "authorship_tag": "ABX9TyOXPcTPEOv9zKoMGA/DOAa9",
      "include_colab_link": true
    },
    "kernelspec": {
      "name": "python3",
      "display_name": "Python 3"
    },
    "language_info": {
      "name": "python"
    }
  },
  "cells": [
    {
      "cell_type": "markdown",
      "metadata": {
        "id": "view-in-github",
        "colab_type": "text"
      },
      "source": [
        "<a href=\"https://colab.research.google.com/github/Rashid-25/Python_Practice_beginner/blob/main/dynamic_type_casting_of_variables_2.ipynb\" target=\"_parent\"><img src=\"https://colab.research.google.com/assets/colab-badge.svg\" alt=\"Open In Colab\"/></a>"
      ]
    },
    {
      "cell_type": "markdown",
      "source": [
        "# Dynamic Type Casting"
      ],
      "metadata": {
        "id": "NCmTCoX0FXP3"
      }
    },
    {
      "cell_type": "code",
      "execution_count": 4,
      "metadata": {
        "colab": {
          "base_uri": "https://localhost:8080/"
        },
        "id": "JcdxNgfGDNt-",
        "outputId": "0438469e-23b3-49a6-875e-669797f43b35"
      },
      "outputs": [
        {
          "output_type": "stream",
          "name": "stdout",
          "text": [
            "Enter a number: 10.5\n",
            "The Number is 10.5 and the type of the Number is <class 'float'>\n"
          ]
        }
      ],
      "source": [
        "# User input is always a string, so dynamic type casting is always needed\n",
        "user_input = input(\"Enter a number: \")\n",
        "# dynamically cast to float or integer based on the user input\n",
        "if \".\" in user_input:\n",
        "    number = float(user_input)\n",
        "else:\n",
        "    number = int(user_input)\n",
        "\n",
        "print(f\"The Number is {number} and the type of the Number is {type(number)}\")\n"
      ]
    },
    {
      "cell_type": "markdown",
      "source": [
        "# dynamic type casting using eval() function"
      ],
      "metadata": {
        "id": "fIPUURSFIvzC"
      }
    },
    {
      "cell_type": "code",
      "source": [
        "# using eval to dynamically cast type\n",
        "user_input = input(\"Enter a number: \")\n",
        "number = eval(user_input)\n",
        "print(f\"The Number is {number} and the type of the Number is {type(number)}\")\n"
      ],
      "metadata": {
        "colab": {
          "base_uri": "https://localhost:8080/"
        },
        "id": "D4H5S-lKIr-2",
        "outputId": "44d6304c-e760-45a0-a222-7f342401435e"
      },
      "execution_count": 10,
      "outputs": [
        {
          "output_type": "stream",
          "name": "stdout",
          "text": [
            "Enter a number: 100/2+200/4\n",
            "The Number is 100.0 and the type of the Number is <class 'float'>\n"
          ]
        }
      ]
    }
  ]
}