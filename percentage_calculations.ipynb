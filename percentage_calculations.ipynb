{
  "nbformat": 4,
  "nbformat_minor": 0,
  "metadata": {
    "colab": {
      "provenance": [],
      "authorship_tag": "ABX9TyN5Dr7stp0kOBG5MgEv1qSu",
      "include_colab_link": true
    },
    "kernelspec": {
      "name": "python3",
      "display_name": "Python 3"
    },
    "language_info": {
      "name": "python"
    }
  },
  "cells": [
    {
      "cell_type": "markdown",
      "metadata": {
        "id": "view-in-github",
        "colab_type": "text"
      },
      "source": [
        "<a href=\"https://colab.research.google.com/github/Rashid-25/Python_Practice_beginner/blob/main/percentage_calculations.ipynb\" target=\"_parent\"><img src=\"https://colab.research.google.com/assets/colab-badge.svg\" alt=\"Open In Colab\"/></a>"
      ]
    },
    {
      "cell_type": "markdown",
      "source": [
        "# basic percentage calculation"
      ],
      "metadata": {
        "id": "sD-1ekOS2NHc"
      }
    },
    {
      "cell_type": "code",
      "execution_count": 1,
      "metadata": {
        "colab": {
          "base_uri": "https://localhost:8080/"
        },
        "id": "L3KggCFw1tGH",
        "outputId": "4446a93e-6b13-4d8b-d02c-3c8d5b1860ec"
      },
      "outputs": [
        {
          "output_type": "stream",
          "name": "stdout",
          "text": [
            "20% of 200 is 40.0\n"
          ]
        }
      ],
      "source": [
        "x = 20  # Percentage\n",
        "y = 200  # Number\n",
        "result = (x / 100) * y\n",
        "print(f\"{x}% of {y} is {result}\")"
      ]
    },
    {
      "cell_type": "markdown",
      "source": [
        "# using a function"
      ],
      "metadata": {
        "id": "lvnx5x9y3Grf"
      }
    },
    {
      "cell_type": "code",
      "source": [
        "def get_percentage(percent, number):\n",
        "    return (percent / 100) * number\n",
        "\n",
        "# Example usage\n",
        "result = get_percentage(15, 300)\n",
        "print(f\"15% of 300 is {result}\")"
      ],
      "metadata": {
        "colab": {
          "base_uri": "https://localhost:8080/"
        },
        "id": "IW8Nv_0G3KjB",
        "outputId": "a408bca2-be17-4276-cfa8-9058fe39c45e"
      },
      "execution_count": 2,
      "outputs": [
        {
          "output_type": "stream",
          "name": "stdout",
          "text": [
            "15% of 300 is 45.0\n"
          ]
        }
      ]
    },
    {
      "cell_type": "markdown",
      "source": [
        "# finding what percentage one number is of another"
      ],
      "metadata": {
        "id": "58VqTneG4ATm"
      }
    },
    {
      "cell_type": "code",
      "source": [
        "a = 50\n",
        "b = 200\n",
        "percentage = (a / b) * 100\n",
        "print(f\"{a} is {percentage}% of {b}\")"
      ],
      "metadata": {
        "colab": {
          "base_uri": "https://localhost:8080/"
        },
        "id": "f8cJ6Pvj4u2M",
        "outputId": "7f8d0acf-9e89-4703-d012-accb0b46b426"
      },
      "execution_count": 3,
      "outputs": [
        {
          "output_type": "stream",
          "name": "stdout",
          "text": [
            "50 is 25.0% of 200\n"
          ]
        }
      ]
    },
    {
      "cell_type": "markdown",
      "source": [
        "# calculate % based on user input"
      ],
      "metadata": {
        "id": "BToNU0fN6dH-"
      }
    },
    {
      "cell_type": "code",
      "source": [
        "def calculate_percentage():\n",
        "    try:\n",
        "        percent = float(input(\"Enter the percentage you want to calculate (e.g., 20 for 20%): \"))\n",
        "        number = float(input(\"Enter the number: \"))\n",
        "\n",
        "        result = (percent / 100) * number\n",
        "        print(f\"{percent}% of {number} is {result:.2f}\")\n",
        "\n",
        "    except ValueError:\n",
        "        print(\"Please enter valid numbers.\")\n",
        "\n",
        "# Run the function\n",
        "calculate_percentage()"
      ],
      "metadata": {
        "colab": {
          "base_uri": "https://localhost:8080/"
        },
        "id": "hXWB1Uk86oke",
        "outputId": "f67d9146-de3a-4ddb-a166-0f36a3942976"
      },
      "execution_count": 4,
      "outputs": [
        {
          "output_type": "stream",
          "name": "stdout",
          "text": [
            "Enter the percentage you want to calculate (e.g., 20 for 20%): 50\n",
            "Enter the number: 200\n",
            "50.0% of 200.0 is 100.00\n"
          ]
        }
      ]
    }
  ]
}