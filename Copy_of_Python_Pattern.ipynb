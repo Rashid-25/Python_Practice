{
  "nbformat": 4,
  "nbformat_minor": 0,
  "metadata": {
    "colab": {
      "provenance": [],
      "authorship_tag": "ABX9TyMvLMzF6YgujAekslSqDlzU",
      "include_colab_link": true
    },
    "kernelspec": {
      "name": "python3",
      "display_name": "Python 3"
    },
    "language_info": {
      "name": "python"
    }
  },
  "cells": [
    {
      "cell_type": "markdown",
      "metadata": {
        "id": "view-in-github",
        "colab_type": "text"
      },
      "source": [
        "<a href=\"https://colab.research.google.com/github/Rashid-25/Python_Practice_beginner/blob/main/Copy_of_Python_Pattern.ipynb\" target=\"_parent\"><img src=\"https://colab.research.google.com/assets/colab-badge.svg\" alt=\"Open In Colab\"/></a>"
      ]
    },
    {
      "cell_type": "code",
      "execution_count": null,
      "metadata": {
        "colab": {
          "base_uri": "https://localhost:8080/"
        },
        "id": "637XlMv_TXKM",
        "outputId": "e980bb19-501b-4c52-df9d-9e6afd7801b6"
      },
      "outputs": [
        {
          "output_type": "stream",
          "name": "stdout",
          "text": [
            "p\n",
            "py\n",
            "pyt\n",
            "pyth\n",
            "pytho\n",
            "python\n",
            "pytho\n",
            "pyth\n",
            "pyt\n",
            "py\n",
            "p\n",
            "\n"
          ]
        }
      ],
      "source": [
        "my_string = \"python\"\n",
        "x = 0\n",
        "for i in my_string:\n",
        "    x = x + 1\n",
        "    print(my_string[0:x])\n",
        "for i in my_string:\n",
        "    x = x - 1\n",
        "    print(my_string[0:x])"
      ]
    }
  ]
}